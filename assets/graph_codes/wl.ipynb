{
 "cells": [
  {
   "cell_type": "markdown",
   "metadata": {},
   "source": [
    "# 使用 Wolfram Language 的相关代码"
   ]
  },
  {
   "cell_type": "markdown",
   "metadata": {},
   "source": [
    "## 轨线图"
   ]
  },
  {
   "cell_type": "code",
   "execution_count": null,
   "metadata": {
    "vscode": {
     "languageId": "wolfram"
    }
   },
   "outputs": [],
   "source": [
    "res = Internal`Bag[]; (* a place to store results *)\n",
    "\n",
    "tmax = 100; (* how long to run for each r value *)\n",
    "{x0, y0, z0} = {1, 1, 1}; (* initial ICs *)\n",
    "\n",
    "Do[\n",
    "  sol = NDSolve[{\n",
    "    x'[t] == 10 (y[t] - x[t]),\n",
    "    y'[t] == r x[t] - y[t] - x[t] z[t],\n",
    "    z'[t] == x[t] y[t] - 8/3 z[t],\n",
    "    x[0] == x0, y[0] == y0, z[0] == z0,\n",
    "    (* save extrema of z[t] *)\n",
    "    WhenEvent[z'[t] == 0, Internal`StuffBag[res, {r, z[t]}]]\n",
    "   }, {x, y, z}, {t, 0, tmax}][[1]];\n",
    "\n",
    "  (* save end value for next ICs *)\n",
    "  {x0, y0, z0} = {x[tmax], y[tmax], z[tmax]} /. sol;\n",
    "  \n",
    ", {r, 330, 0, -0.1}];"
   ]
  },
  {
   "cell_type": "code",
   "execution_count": null,
   "metadata": {
    "vscode": {
     "languageId": "wolfram"
    }
   },
   "outputs": [],
   "source": [
    "ListPlot[Internal`BagPart[res, All],\n",
    "  PlotStyle -> {Gray, Opacity[0.1], PointSize[0.001]},\n",
    "  AxesLabel -> {\"r\", \"z\"},\n",
    "  LabelStyle -> {FontSize -> 30},\n",
    "  TicksStyle -> {FontSize -> 20, Black},\n",
    "  ImageSize -> 2000,\n",
    "  PlotRange -> {{0, 330}, {0, 400}}]"
   ]
  },
  {
   "cell_type": "markdown",
   "metadata": {},
   "source": [
    "## Lorenz Map"
   ]
  },
  {
   "cell_type": "code",
   "execution_count": null,
   "metadata": {
    "vscode": {
     "languageId": "wolfram"
    }
   },
   "outputs": [],
   "source": [
    "res = Internal`Bag[]; (* a place to store results *)\n",
    "\n",
    "tmin = 0;\n",
    "tmax = 100; (* how long to run for each r value *)\n",
    "{x0, y0, z0} = {1, 1, 1}; (* initial ICs *)\n",
    "\n",
    "r=28;\n",
    "Do[\n",
    "    cnt=0;\n",
    "    preZ=0;\n",
    "    sol = NDSolve[{\n",
    "        x'[t] == 10 (y[t] - x[t]),\n",
    "        y'[t] == r x[t] - y[t] - x[t] z[t],\n",
    "        z'[t] == x[t] y[t] - 8/3 z[t],\n",
    "        x[0] == x0, y[0] == y0, z[0] == z0,\n",
    "        (* save extrema of z[t] *)\n",
    "        WhenEvent[z'[t] == 0,\n",
    "            cnt = cnt + 1;\n",
    "            If[Mod[cnt, 2]==0,\n",
    "                Internal`StuffBag[res, {preZ, z[t]}];\n",
    "                preZ=z[t];\n",
    "            ];\n",
    "            \n",
    "        ]\n",
    "    }, {x, y, z}, {t, tmin, tmax}][[1]];\n",
    "\n",
    "    (* save end value for next ICs *)\n",
    "    (* {x0, y0, z0} = {x[tmax], y[tmax], z[tmax]} /. sol; *)\n",
    "    {x[tmax], y[tmax], z[tmax]} /. sol;\n",
    "    (* random init*)\n",
    "    {x0, y0, z0} = RandomReal[{0, 60}, 3];\n",
    ", {k, 0, 10, 1}];\n",
    "\n",
    "plt1 = ListPlot[Internal`BagPart[res, All],\n",
    "  PlotStyle -> {Gray, Opacity[0.5], PointSize[0.01]},\n",
    "  AxesLabel -> {\"z_{n-1}\", \"z_n\"},\n",
    "  LabelStyle -> {FontSize -> 30},\n",
    "  ImageSize -> 2000,\n",
    "  PlotRange -> {{25, 50}, {25, 50}},\n",
    "  AspectRatio -> Automatic\n",
    "  ];\n",
    "\n",
    "plt2 = Plot[x, {x, -200, 200}, PlotStyle -> {Thick, Red}];\n",
    "\n",
    "Show[plt1, plt2]"
   ]
  },
  {
   "cell_type": "code",
   "execution_count": null,
   "metadata": {
    "vscode": {
     "languageId": "wolfram"
    }
   },
   "outputs": [],
   "source": [
    "res = Internal`Bag[]; (* a place to store results *)\n",
    "\n",
    "tmin = 0;\n",
    "tmax = 100; (* how long to run for each r value *)\n",
    "{x0, y0, z0} = {1, 1, 1}; (* initial ICs *)\n",
    "\n",
    "r=230;\n",
    "Do[\n",
    "    cnt=1;\n",
    "    pre=0;\n",
    "    sol = NDSolve[{\n",
    "        x'[t] == 10 (y[t] - x[t]),\n",
    "        y'[t] == r x[t] - y[t] - x[t] z[t],\n",
    "        z'[t] == x[t] y[t] - 8/3 z[t],\n",
    "        x[0] == x0, y[0] == y0, z[0] == z0,\n",
    "        (* save extrema of z[t] *)\n",
    "        WhenEvent[x[t] == 0,\n",
    "            cnt = cnt + 1;\n",
    "            If[Mod[cnt, 2]==0,\n",
    "                Internal`StuffBag[res, {pre, y[t]}];\n",
    "                pre=y[t];\n",
    "            ];\n",
    "            \n",
    "        ]\n",
    "    }, {x, y, z}, {t, tmin, tmax}][[1]];\n",
    "\n",
    "    (* save end value for next ICs *)\n",
    "    (* {x0, y0, z0} = {x[tmax], y[tmax], z[tmax]} /. sol; *)\n",
    "    {x[tmax], y[tmax], z[tmax]} /. sol;\n",
    "    (* random init*)\n",
    "    {x0, y0, z0} = RandomReal[{-200, 200}, 3];\n",
    ", {k, 0, 100, 1}];\n",
    "\n",
    "plt1 = ListPlot[Internal`BagPart[res, All],\n",
    "  PlotStyle -> {Gray, Opacity[0.5], PointSize[0.005]},\n",
    "  AxesLabel -> {\"y_{n-1}\", \"y_n\"},\n",
    "  LabelStyle -> {FontSize -> 30},\n",
    "  ImageSize -> 2000,\n",
    "  PlotRange -> {{-100, 100}, {-100, 100}},\n",
    "  AspectRatio -> Automatic\n",
    "  ];\n",
    "\n",
    "(* y=x *)\n",
    "plt2 = Plot[x, {x, -200, 200}, PlotStyle -> {Thick, Red}];\n",
    "\n",
    "Show[plt1, plt2]"
   ]
  },
  {
   "cell_type": "markdown",
   "metadata": {},
   "source": [
    "## Lorenz 系统 3D 图"
   ]
  },
  {
   "cell_type": "code",
   "execution_count": null,
   "metadata": {
    "vscode": {
     "languageId": "wolfram"
    }
   },
   "outputs": [],
   "source": [
    "sol1 = NDSolve[\n",
    "    {\n",
    "        (*此为方程式*)\n",
    "        Derivative[1][x][t] == 10 (y[t] - x[t]), \n",
    "        Derivative[1][y][t] == -x[t] z[t] + (147.5) x[t] - y[t], \n",
    "        Derivative[1][z][t] == x[t] y[t] - 8/3 z[t], \n",
    "        (*你需要选定方程式的初值*)\n",
    "        x[0] == z[0] == 0, y[0] == 10\n",
    "    }, \n",
    "    {x, y, z}, \n",
    "    (*调整这个值以改变t的范围*)\n",
    "    {t, 0, 200},\n",
    "    MaxSteps -> \\[Infinity] (*确保图像足够精确*)\n",
    "];\n",
    "\n",
    "sol2 = NDSolve[\n",
    "    {\n",
    "        (*此为方程式*)\n",
    "        Derivative[1][x][t] == 10 (y[t] - x[t]), \n",
    "        Derivative[1][y][t] == -x[t] z[t] + (147.5) x[t] - y[t], \n",
    "        Derivative[1][z][t] == x[t] y[t] - 8/3 z[t], \n",
    "        (*你需要选定方程式的初值*)\n",
    "        x[0] ==0 , z[0] == 0, y[0] == -10\n",
    "    }, \n",
    "    {x, y, z}, \n",
    "    (*调整这个值以改变t的范围*)\n",
    "    {t, 0, 200},\n",
    "    MaxSteps -> \\[Infinity] (*确保图像足够精确*)\n",
    "];  \n",
    "\n",
    "parametricPlot1=ParametricPlot3D[\n",
    "        Evaluate[{x[t], y[t], z[t]} /. sol1], \n",
    "        {t, 50, 200}, \n",
    "        PlotPoints -> 1000,(* 调整这个值以增加采样点数,1000就比较不错 *)\n",
    "        MaxRecursion -> 15, (* 调整这个值以增加递归次数,递归次数最高为15次 *) \n",
    "        PlotStyle -> Directive[Thick, RGBColor[.8, 0, 0]], (* 指定粗线条和曲面颜色 *)\n",
    "        ColorFunction -> (ColorData[\"SolarColors\", #4] &) (* 指定颜色方案并让颜色随时间t变化为变化 *)\n",
    "\n",
    "    ];\n",
    "\n",
    "parametricPlot2=ParametricPlot3D[\n",
    "        Evaluate[{x[t], y[t], z[t]} /. sol2], \n",
    "        {t, 50, 200}, \n",
    "        PlotPoints -> 1000,(* 调整这个值以增加采样点数,1000就比较不错 *)\n",
    "        MaxRecursion -> 15, (* 调整这个值以增加递归次数,递归次数最高为15次 *) \n",
    "        PlotStyle -> Directive[Thick, RGBColor[0, 0, .8]], (* 指定粗线条和曲面颜色 *)\n",
    "        ColorFunction -> (ColorData[\"LakeColors\", #4] &) (* 指定颜色方案并让颜色随时间t变化为变化 *)\n",
    "    ];\n",
    "\n",
    "(* 使用 Show 函数合并两个图形 *)\n",
    "Show[parametricPlot1, parametricPlot2, PlotRange -> All]"
   ]
  }
 ],
 "metadata": {
  "kernelspec": {
   "display_name": "Wolfram Language 13.3",
   "language": "Wolfram Language",
   "name": "wolframlanguage13.3"
  },
  "language_info": {
   "codemirror_mode": "mathematica",
   "file_extension": ".m",
   "mimetype": "application/vnd.wolfram.m",
   "name": "Wolfram Language",
   "pygments_lexer": "mathematica",
   "version": "12.0"
  }
 },
 "nbformat": 4,
 "nbformat_minor": 2
}
